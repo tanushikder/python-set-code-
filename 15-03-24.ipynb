{
 "cells": [
  {
   "cell_type": "code",
   "execution_count": 1,
   "id": "a85a1dbd",
   "metadata": {},
   "outputs": [],
   "source": [
    "import numpy as np"
   ]
  },
  {
   "cell_type": "code",
   "execution_count": 3,
   "id": "82bbb92f",
   "metadata": {},
   "outputs": [],
   "source": [
    "list=np.random.randint(3,10,20)"
   ]
  },
  {
   "cell_type": "code",
   "execution_count": 4,
   "id": "28d6ee88",
   "metadata": {},
   "outputs": [
    {
     "data": {
      "text/plain": [
       "5.85"
      ]
     },
     "execution_count": 4,
     "metadata": {},
     "output_type": "execute_result"
    }
   ],
   "source": [
    "np.mean(list)"
   ]
  },
  {
   "cell_type": "code",
   "execution_count": 5,
   "id": "8709d43f",
   "metadata": {},
   "outputs": [
    {
     "data": {
      "text/plain": [
       "array([9, 8, 4, 4, 5, 6, 6, 8, 7, 7, 4, 6, 9, 6, 3, 4, 3, 5, 8, 5])"
      ]
     },
     "execution_count": 5,
     "metadata": {},
     "output_type": "execute_result"
    }
   ],
   "source": [
    "list"
   ]
  },
  {
   "cell_type": "code",
   "execution_count": 6,
   "id": "2cd02b15",
   "metadata": {},
   "outputs": [],
   "source": [
    "list=np.random.randint(3,10,20)"
   ]
  },
  {
   "cell_type": "code",
   "execution_count": 7,
   "id": "8115e075",
   "metadata": {},
   "outputs": [
    {
     "data": {
      "text/plain": [
       "5.5"
      ]
     },
     "execution_count": 7,
     "metadata": {},
     "output_type": "execute_result"
    }
   ],
   "source": [
    "np.median(list)"
   ]
  },
  {
   "cell_type": "code",
   "execution_count": 8,
   "id": "3f1ed6f8",
   "metadata": {},
   "outputs": [],
   "source": [
    "import statistics as st"
   ]
  },
  {
   "cell_type": "code",
   "execution_count": 9,
   "id": "9ab9afa0",
   "metadata": {},
   "outputs": [],
   "source": [
    "list=np.random.randint(3,10,20)"
   ]
  },
  {
   "cell_type": "code",
   "execution_count": 11,
   "id": "8c80deeb",
   "metadata": {},
   "outputs": [
    {
     "data": {
      "text/plain": [
       "9"
      ]
     },
     "execution_count": 11,
     "metadata": {},
     "output_type": "execute_result"
    }
   ],
   "source": [
    "st.mode(list)"
   ]
  },
  {
   "cell_type": "code",
   "execution_count": 12,
   "id": "63f2ee6c",
   "metadata": {},
   "outputs": [
    {
     "data": {
      "text/plain": [
       "array([5, 4, 3, 7, 8, 5, 3, 9, 6, 8, 9, 9, 8, 5, 3, 9, 7, 5, 9, 6])"
      ]
     },
     "execution_count": 12,
     "metadata": {},
     "output_type": "execute_result"
    }
   ],
   "source": [
    "list"
   ]
  },
  {
   "cell_type": "code",
   "execution_count": 58,
   "id": "205a3eda",
   "metadata": {},
   "outputs": [],
   "source": [
    "import pandas as pd"
   ]
  },
  {
   "cell_type": "code",
   "execution_count": 59,
   "id": "5544f4e0",
   "metadata": {},
   "outputs": [],
   "source": [
    "data=pd.read_csv(r'C:\\study materials\\data science\\pandas\\stock_data.csv')"
   ]
  },
  {
   "cell_type": "code",
   "execution_count": 60,
   "id": "3ea1e535",
   "metadata": {},
   "outputs": [
    {
     "data": {
      "text/html": [
       "<div>\n",
       "<style scoped>\n",
       "    .dataframe tbody tr th:only-of-type {\n",
       "        vertical-align: middle;\n",
       "    }\n",
       "\n",
       "    .dataframe tbody tr th {\n",
       "        vertical-align: top;\n",
       "    }\n",
       "\n",
       "    .dataframe thead th {\n",
       "        text-align: right;\n",
       "    }\n",
       "</style>\n",
       "<table border=\"1\" class=\"dataframe\">\n",
       "  <thead>\n",
       "    <tr style=\"text-align: right;\">\n",
       "      <th></th>\n",
       "      <th>Date</th>\n",
       "      <th>Open</th>\n",
       "      <th>High</th>\n",
       "      <th>Low</th>\n",
       "      <th>Close</th>\n",
       "      <th>Volume</th>\n",
       "      <th>Name</th>\n",
       "    </tr>\n",
       "  </thead>\n",
       "  <tbody>\n",
       "    <tr>\n",
       "      <th>0</th>\n",
       "      <td>1/3/2006</td>\n",
       "      <td>39.69</td>\n",
       "      <td>41.22</td>\n",
       "      <td>38.79</td>\n",
       "      <td>40.91</td>\n",
       "      <td>24232729</td>\n",
       "      <td>AABA</td>\n",
       "    </tr>\n",
       "    <tr>\n",
       "      <th>1</th>\n",
       "      <td>1/4/2006</td>\n",
       "      <td>41.22</td>\n",
       "      <td>41.90</td>\n",
       "      <td>40.77</td>\n",
       "      <td>40.97</td>\n",
       "      <td>20553479</td>\n",
       "      <td>AABA</td>\n",
       "    </tr>\n",
       "    <tr>\n",
       "      <th>2</th>\n",
       "      <td>1/5/2006</td>\n",
       "      <td>40.93</td>\n",
       "      <td>41.73</td>\n",
       "      <td>40.85</td>\n",
       "      <td>41.53</td>\n",
       "      <td>12829610</td>\n",
       "      <td>AABA</td>\n",
       "    </tr>\n",
       "    <tr>\n",
       "      <th>3</th>\n",
       "      <td>1/6/2006</td>\n",
       "      <td>42.88</td>\n",
       "      <td>43.57</td>\n",
       "      <td>42.80</td>\n",
       "      <td>43.21</td>\n",
       "      <td>29422828</td>\n",
       "      <td>alex</td>\n",
       "    </tr>\n",
       "    <tr>\n",
       "      <th>4</th>\n",
       "      <td>1/9/2006</td>\n",
       "      <td>43.10</td>\n",
       "      <td>43.66</td>\n",
       "      <td>42.82</td>\n",
       "      <td>43.42</td>\n",
       "      <td>16268338</td>\n",
       "      <td>queen</td>\n",
       "    </tr>\n",
       "    <tr>\n",
       "      <th>...</th>\n",
       "      <td>...</td>\n",
       "      <td>...</td>\n",
       "      <td>...</td>\n",
       "      <td>...</td>\n",
       "      <td>...</td>\n",
       "      <td>...</td>\n",
       "      <td>...</td>\n",
       "    </tr>\n",
       "    <tr>\n",
       "      <th>3014</th>\n",
       "      <td>12/22/2017</td>\n",
       "      <td>71.42</td>\n",
       "      <td>71.87</td>\n",
       "      <td>71.22</td>\n",
       "      <td>71.58</td>\n",
       "      <td>10979165</td>\n",
       "      <td>AABA</td>\n",
       "    </tr>\n",
       "    <tr>\n",
       "      <th>3015</th>\n",
       "      <td>12/26/2017</td>\n",
       "      <td>70.94</td>\n",
       "      <td>71.39</td>\n",
       "      <td>69.63</td>\n",
       "      <td>69.86</td>\n",
       "      <td>8542802</td>\n",
       "      <td>AABA</td>\n",
       "    </tr>\n",
       "    <tr>\n",
       "      <th>3016</th>\n",
       "      <td>12/27/2017</td>\n",
       "      <td>69.77</td>\n",
       "      <td>70.49</td>\n",
       "      <td>69.69</td>\n",
       "      <td>70.06</td>\n",
       "      <td>6345124</td>\n",
       "      <td>AABA</td>\n",
       "    </tr>\n",
       "    <tr>\n",
       "      <th>3017</th>\n",
       "      <td>12/28/2017</td>\n",
       "      <td>70.12</td>\n",
       "      <td>70.32</td>\n",
       "      <td>69.51</td>\n",
       "      <td>69.82</td>\n",
       "      <td>7556877</td>\n",
       "      <td>AABA</td>\n",
       "    </tr>\n",
       "    <tr>\n",
       "      <th>3018</th>\n",
       "      <td>12/29/2017</td>\n",
       "      <td>69.79</td>\n",
       "      <td>70.13</td>\n",
       "      <td>69.43</td>\n",
       "      <td>69.85</td>\n",
       "      <td>6613070</td>\n",
       "      <td>AABA</td>\n",
       "    </tr>\n",
       "  </tbody>\n",
       "</table>\n",
       "<p>3019 rows × 7 columns</p>\n",
       "</div>"
      ],
      "text/plain": [
       "            Date   Open   High    Low  Close    Volume   Name\n",
       "0       1/3/2006  39.69  41.22  38.79  40.91  24232729   AABA\n",
       "1       1/4/2006  41.22  41.90  40.77  40.97  20553479   AABA\n",
       "2       1/5/2006  40.93  41.73  40.85  41.53  12829610   AABA\n",
       "3       1/6/2006  42.88  43.57  42.80  43.21  29422828   alex\n",
       "4       1/9/2006  43.10  43.66  42.82  43.42  16268338  queen\n",
       "...          ...    ...    ...    ...    ...       ...    ...\n",
       "3014  12/22/2017  71.42  71.87  71.22  71.58  10979165   AABA\n",
       "3015  12/26/2017  70.94  71.39  69.63  69.86   8542802   AABA\n",
       "3016  12/27/2017  69.77  70.49  69.69  70.06   6345124   AABA\n",
       "3017  12/28/2017  70.12  70.32  69.51  69.82   7556877   AABA\n",
       "3018  12/29/2017  69.79  70.13  69.43  69.85   6613070   AABA\n",
       "\n",
       "[3019 rows x 7 columns]"
      ]
     },
     "execution_count": 60,
     "metadata": {},
     "output_type": "execute_result"
    }
   ],
   "source": [
    "data"
   ]
  },
  {
   "cell_type": "code",
   "execution_count": 61,
   "id": "7e1c6b0d",
   "metadata": {},
   "outputs": [
    {
     "data": {
      "text/plain": [
       "28.412726068234516"
      ]
     },
     "execution_count": 61,
     "metadata": {},
     "output_type": "execute_result"
    }
   ],
   "source": [
    "np.mean(data[\"Close\"])"
   ]
  },
  {
   "cell_type": "code",
   "execution_count": 62,
   "id": "65dfc568",
   "metadata": {},
   "outputs": [
    {
     "data": {
      "text/plain": [
       "27.1"
      ]
     },
     "execution_count": 62,
     "metadata": {},
     "output_type": "execute_result"
    }
   ],
   "source": [
    "np.median(Closdata[\"e\"])"
   ]
  },
  {
   "cell_type": "code",
   "execution_count": 63,
   "id": "1088cabf",
   "metadata": {},
   "outputs": [
    {
     "data": {
      "text/plain": [
       "15.1"
      ]
     },
     "execution_count": 63,
     "metadata": {},
     "output_type": "execute_result"
    }
   ],
   "source": [
    "st.mode(data[\"Close\"])"
   ]
  },
  {
   "cell_type": "code",
   "execution_count": 64,
   "id": "a2d5bc12",
   "metadata": {},
   "outputs": [],
   "source": [
    "data=np.array([4,5,5,5,5,6,6,6,6,7,7,7,7,8])"
   ]
  },
  {
   "cell_type": "code",
   "execution_count": 65,
   "id": "0e198cb0",
   "metadata": {},
   "outputs": [],
   "source": [
    "range=data.max()-data.min()"
   ]
  },
  {
   "cell_type": "code",
   "execution_count": 66,
   "id": "c91c0b00",
   "metadata": {},
   "outputs": [
    {
     "name": "stdout",
     "output_type": "stream",
     "text": [
      "4\n"
     ]
    }
   ],
   "source": [
    "print(range)"
   ]
  },
  {
   "cell_type": "code",
   "execution_count": 67,
   "id": "77940027",
   "metadata": {},
   "outputs": [
    {
     "ename": "IndexError",
     "evalue": "only integers, slices (`:`), ellipsis (`...`), numpy.newaxis (`None`) and integer or boolean arrays are valid indices",
     "output_type": "error",
     "traceback": [
      "\u001b[1;31m---------------------------------------------------------------------------\u001b[0m",
      "\u001b[1;31mIndexError\u001b[0m                                Traceback (most recent call last)",
      "Cell \u001b[1;32mIn[67], line 1\u001b[0m\n\u001b[1;32m----> 1\u001b[0m dataxyz\u001b[38;5;241m=\u001b[39mdata[\u001b[38;5;124m\"\u001b[39m\u001b[38;5;124mClose\u001b[39m\u001b[38;5;124m\"\u001b[39m]\u001b[38;5;241m.\u001b[39mmax()\u001b[38;5;241m-\u001b[39mdata[\u001b[38;5;124m\"\u001b[39m\u001b[38;5;124mClose\u001b[39m\u001b[38;5;124m\"\u001b[39m]\u001b[38;5;241m.\u001b[39mmin()\n",
      "\u001b[1;31mIndexError\u001b[0m: only integers, slices (`:`), ellipsis (`...`), numpy.newaxis (`None`) and integer or boolean arrays are valid indices"
     ]
    }
   ],
   "source": [
    "dataxyz=data[\"Close\"].max()-data[\"Close\"].min()"
   ]
  },
  {
   "cell_type": "code",
   "execution_count": 68,
   "id": "2ed0bea5",
   "metadata": {},
   "outputs": [
    {
     "name": "stdout",
     "output_type": "stream",
     "text": [
      "63.980000000000004\n"
     ]
    }
   ],
   "source": [
    "print(dataxyz)"
   ]
  },
  {
   "cell_type": "code",
   "execution_count": 92,
   "id": "c6826b59",
   "metadata": {},
   "outputs": [],
   "source": [
    "data=pd.read_csv(r'C:\\study materials\\data science\\pandas\\weather2.csv')"
   ]
  },
  {
   "cell_type": "code",
   "execution_count": 93,
   "id": "97dec3be",
   "metadata": {},
   "outputs": [
    {
     "data": {
      "text/html": [
       "<div>\n",
       "<style scoped>\n",
       "    .dataframe tbody tr th:only-of-type {\n",
       "        vertical-align: middle;\n",
       "    }\n",
       "\n",
       "    .dataframe tbody tr th {\n",
       "        vertical-align: top;\n",
       "    }\n",
       "\n",
       "    .dataframe thead th {\n",
       "        text-align: right;\n",
       "    }\n",
       "</style>\n",
       "<table border=\"1\" class=\"dataframe\">\n",
       "  <thead>\n",
       "    <tr style=\"text-align: right;\">\n",
       "      <th></th>\n",
       "      <th>Day</th>\n",
       "      <th>City</th>\n",
       "      <th>Temperature</th>\n",
       "      <th>WindSpeed</th>\n",
       "      <th>event</th>\n",
       "    </tr>\n",
       "  </thead>\n",
       "  <tbody>\n",
       "    <tr>\n",
       "      <th>0</th>\n",
       "      <td>1/1/2017</td>\n",
       "      <td>new work</td>\n",
       "      <td>30</td>\n",
       "      <td>6</td>\n",
       "      <td>rain</td>\n",
       "    </tr>\n",
       "    <tr>\n",
       "      <th>1</th>\n",
       "      <td>1/2/2017</td>\n",
       "      <td>new work</td>\n",
       "      <td>36</td>\n",
       "      <td>7</td>\n",
       "      <td>sunny</td>\n",
       "    </tr>\n",
       "    <tr>\n",
       "      <th>2</th>\n",
       "      <td>1/3/2017</td>\n",
       "      <td>new work</td>\n",
       "      <td>28</td>\n",
       "      <td>12</td>\n",
       "      <td>snow</td>\n",
       "    </tr>\n",
       "    <tr>\n",
       "      <th>3</th>\n",
       "      <td>1/4/20017</td>\n",
       "      <td>new work</td>\n",
       "      <td>33</td>\n",
       "      <td>7</td>\n",
       "      <td>sunny</td>\n",
       "    </tr>\n",
       "    <tr>\n",
       "      <th>4</th>\n",
       "      <td>1/1/2017</td>\n",
       "      <td>mumbai</td>\n",
       "      <td>90</td>\n",
       "      <td>5</td>\n",
       "      <td>sunny</td>\n",
       "    </tr>\n",
       "    <tr>\n",
       "      <th>5</th>\n",
       "      <td>1/2/2017</td>\n",
       "      <td>mumbai</td>\n",
       "      <td>85</td>\n",
       "      <td>12</td>\n",
       "      <td>fog</td>\n",
       "    </tr>\n",
       "    <tr>\n",
       "      <th>6</th>\n",
       "      <td>1/3/2017</td>\n",
       "      <td>mumbai</td>\n",
       "      <td>87</td>\n",
       "      <td>15</td>\n",
       "      <td>fog</td>\n",
       "    </tr>\n",
       "    <tr>\n",
       "      <th>7</th>\n",
       "      <td>1/4/2017</td>\n",
       "      <td>mumbai</td>\n",
       "      <td>92</td>\n",
       "      <td>5</td>\n",
       "      <td>rain</td>\n",
       "    </tr>\n",
       "    <tr>\n",
       "      <th>8</th>\n",
       "      <td>1/1/2017</td>\n",
       "      <td>paries</td>\n",
       "      <td>45</td>\n",
       "      <td>20</td>\n",
       "      <td>sunny</td>\n",
       "    </tr>\n",
       "    <tr>\n",
       "      <th>9</th>\n",
       "      <td>1/2/2017</td>\n",
       "      <td>paries</td>\n",
       "      <td>50</td>\n",
       "      <td>13</td>\n",
       "      <td>cloudy</td>\n",
       "    </tr>\n",
       "    <tr>\n",
       "      <th>10</th>\n",
       "      <td>1/3/2017</td>\n",
       "      <td>paries</td>\n",
       "      <td>54</td>\n",
       "      <td>8</td>\n",
       "      <td>cloudy</td>\n",
       "    </tr>\n",
       "    <tr>\n",
       "      <th>11</th>\n",
       "      <td>1/4/2017</td>\n",
       "      <td>paries</td>\n",
       "      <td>42</td>\n",
       "      <td>10</td>\n",
       "      <td>cloudy</td>\n",
       "    </tr>\n",
       "  </tbody>\n",
       "</table>\n",
       "</div>"
      ],
      "text/plain": [
       "          Day      City  Temperature  WindSpeed   event\n",
       "0    1/1/2017  new work           30          6    rain\n",
       "1    1/2/2017  new work           36          7   sunny\n",
       "2    1/3/2017  new work           28         12    snow\n",
       "3   1/4/20017  new work           33          7   sunny\n",
       "4    1/1/2017    mumbai           90          5   sunny\n",
       "5    1/2/2017    mumbai           85         12     fog\n",
       "6    1/3/2017    mumbai           87         15     fog\n",
       "7    1/4/2017    mumbai           92          5    rain\n",
       "8    1/1/2017    paries           45         20   sunny\n",
       "9    1/2/2017    paries           50         13  cloudy\n",
       "10   1/3/2017    paries           54          8  cloudy\n",
       "11   1/4/2017    paries           42         10  cloudy"
      ]
     },
     "execution_count": 93,
     "metadata": {},
     "output_type": "execute_result"
    }
   ],
   "source": [
    "data"
   ]
  },
  {
   "cell_type": "code",
   "execution_count": 71,
   "id": "d3ef4e29",
   "metadata": {},
   "outputs": [],
   "source": [
    "data=np.array([4,5,5,5,6,6,6,6,7,7,7,8])"
   ]
  },
  {
   "cell_type": "code",
   "execution_count": 72,
   "id": "f73437ff",
   "metadata": {},
   "outputs": [],
   "source": [
    "q1=np.percentile(data,25)"
   ]
  },
  {
   "cell_type": "code",
   "execution_count": 73,
   "id": "3b7773de",
   "metadata": {},
   "outputs": [],
   "source": [
    "q2=np.percentile(data,50)"
   ]
  },
  {
   "cell_type": "code",
   "execution_count": 74,
   "id": "ea025b8b",
   "metadata": {},
   "outputs": [],
   "source": [
    "q3=np.percentile(data,75)"
   ]
  },
  {
   "cell_type": "code",
   "execution_count": 75,
   "id": "da9a6cdd",
   "metadata": {},
   "outputs": [],
   "source": [
    "IQR=q3-q1"
   ]
  },
  {
   "cell_type": "code",
   "execution_count": 76,
   "id": "cf8acc47",
   "metadata": {},
   "outputs": [
    {
     "name": "stdout",
     "output_type": "stream",
     "text": [
      "2.0\n"
     ]
    }
   ],
   "source": [
    "print(IQR)"
   ]
  },
  {
   "cell_type": "code",
   "execution_count": 94,
   "id": "1793afe0",
   "metadata": {},
   "outputs": [
    {
     "data": {
      "text/plain": [
       "0     30\n",
       "1     36\n",
       "2     28\n",
       "3     33\n",
       "4     90\n",
       "5     85\n",
       "6     87\n",
       "7     92\n",
       "8     45\n",
       "9     50\n",
       "10    54\n",
       "11    42\n",
       "Name: Temperature, dtype: int64"
      ]
     },
     "execution_count": 94,
     "metadata": {},
     "output_type": "execute_result"
    }
   ],
   "source": [
    "(data[\"Temperature\"])"
   ]
  },
  {
   "cell_type": "code",
   "execution_count": 78,
   "id": "d3dba6bc",
   "metadata": {},
   "outputs": [
    {
     "data": {
      "text/plain": [
       "array([4, 5, 5, 5, 6, 6, 6, 6, 7, 7, 7, 8])"
      ]
     },
     "execution_count": 78,
     "metadata": {},
     "output_type": "execute_result"
    }
   ],
   "source": [
    "data"
   ]
  },
  {
   "cell_type": "code",
   "execution_count": 83,
   "id": "2d43d9fb",
   "metadata": {},
   "outputs": [
    {
     "data": {
      "text/plain": [
       "0     30\n",
       "1     36\n",
       "2     28\n",
       "3     33\n",
       "4     90\n",
       "5     85\n",
       "6     87\n",
       "7     92\n",
       "8     45\n",
       "9     50\n",
       "10    54\n",
       "11    42\n",
       "Name: Temperature, dtype: int64"
      ]
     },
     "execution_count": 83,
     "metadata": {},
     "output_type": "execute_result"
    }
   ],
   "source": [
    "(data[\"Temperature\"])"
   ]
  },
  {
   "cell_type": "code",
   "execution_count": 80,
   "id": "fcce40fc",
   "metadata": {},
   "outputs": [
    {
     "data": {
      "text/plain": [
       "array([4, 5, 5, 5, 6, 6, 6, 6, 7, 7, 7, 8])"
      ]
     },
     "execution_count": 80,
     "metadata": {},
     "output_type": "execute_result"
    }
   ],
   "source": [
    "data"
   ]
  },
  {
   "cell_type": "code",
   "execution_count": 86,
   "id": "d34948df",
   "metadata": {},
   "outputs": [],
   "source": [
    "data=np.array([20,36,28,33,10,85,15,18,45,50,54,42])"
   ]
  },
  {
   "cell_type": "code",
   "execution_count": 87,
   "id": "34595e3a",
   "metadata": {},
   "outputs": [],
   "source": [
    "q1=np.percentile(data,25)"
   ]
  },
  {
   "cell_type": "code",
   "execution_count": 88,
   "id": "2bab4457",
   "metadata": {},
   "outputs": [],
   "source": [
    "q2=np.percentile(data,50)"
   ]
  },
  {
   "cell_type": "code",
   "execution_count": 89,
   "id": "f3a593bd",
   "metadata": {},
   "outputs": [],
   "source": [
    "q3=np.percentile(data,75)"
   ]
  },
  {
   "cell_type": "code",
   "execution_count": 90,
   "id": "67e44c2d",
   "metadata": {},
   "outputs": [],
   "source": [
    "IQR=q3-q1"
   ]
  },
  {
   "cell_type": "code",
   "execution_count": 91,
   "id": "66d5f286",
   "metadata": {},
   "outputs": [
    {
     "name": "stdout",
     "output_type": "stream",
     "text": [
      "26.75\n"
     ]
    }
   ],
   "source": [
    "print(IQR)"
   ]
  },
  {
   "cell_type": "code",
   "execution_count": 95,
   "id": "b1f70ff5",
   "metadata": {},
   "outputs": [],
   "source": [
    "q1=np.percentile(data[\"Temperature\"],25)"
   ]
  },
  {
   "cell_type": "code",
   "execution_count": 96,
   "id": "750cd782",
   "metadata": {},
   "outputs": [],
   "source": [
    "q2=np.percentile(data[\"Temperature\"],50)"
   ]
  },
  {
   "cell_type": "code",
   "execution_count": 97,
   "id": "4288c248",
   "metadata": {},
   "outputs": [],
   "source": [
    "q3=np.percentile(data[\"Temperature\"],75)"
   ]
  },
  {
   "cell_type": "code",
   "execution_count": 98,
   "id": "64a63681",
   "metadata": {},
   "outputs": [],
   "source": [
    "IQR=q3-q1"
   ]
  },
  {
   "cell_type": "code",
   "execution_count": 99,
   "id": "6ec3b15a",
   "metadata": {},
   "outputs": [
    {
     "name": "stdout",
     "output_type": "stream",
     "text": [
      "50.25\n"
     ]
    }
   ],
   "source": [
    "print(IQR)"
   ]
  },
  {
   "cell_type": "code",
   "execution_count": null,
   "id": "2b5a50dd",
   "metadata": {},
   "outputs": [],
   "source": []
  }
 ],
 "metadata": {
  "kernelspec": {
   "display_name": "Python 3 (ipykernel)",
   "language": "python",
   "name": "python3"
  },
  "language_info": {
   "codemirror_mode": {
    "name": "ipython",
    "version": 3
   },
   "file_extension": ".py",
   "mimetype": "text/x-python",
   "name": "python",
   "nbconvert_exporter": "python",
   "pygments_lexer": "ipython3",
   "version": "3.11.5"
  }
 },
 "nbformat": 4,
 "nbformat_minor": 5
}
